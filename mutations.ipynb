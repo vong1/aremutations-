{
 "cells": [
  {
   "cell_type": "markdown",
   "metadata": {},
   "source": [
    "L'individu est considéré comme eucaryote, ainsi on considère qu'il possède 22 paires de chromosomes et une paire sexuée. \n",
    "definition d'une individu x=[int nb_chr, int nb_mut]\n"
   ]
  },
  {
   "cell_type": "raw",
   "metadata": {},
   "source": [
    "Définition de l'individu: \n",
    "Il faut distinguer si c'est un mâle ou une femelle. Les objets que nous utiliseront seront présentés ci-dessous. "
   ]
  },
  {
   "cell_type": "code",
   "execution_count": 105,
   "metadata": {},
   "outputs": [],
   "source": [
    "#représentation des differents objects que nous allons manipuler. \n",
    "#l'individu\n",
    "#x=s,nb_chr,nb_mut\n",
    "#la population \n",
    "#POP={x1,x2,...,xi,...xn}\n",
    "\n",
    "p=0.5\n",
    "pop=20"
   ]
  },
  {
   "cell_type": "code",
   "execution_count": 106,
   "metadata": {},
   "outputs": [],
   "source": [
    "import random\n",
    "def generateursex(p): \n",
    "    r=random.random()\n",
    "    if (r%100)<p:\n",
    "        return 'F'\n",
    "    else: \n",
    "        return 'M'"
   ]
  },
  {
   "cell_type": "code",
   "execution_count": 107,
   "metadata": {},
   "outputs": [
    {
     "name": "stdout",
     "output_type": "stream",
     "text": [
      "M\n"
     ]
    }
   ],
   "source": [
    "print(generateursex(0.5) )"
   ]
  },
  {
   "cell_type": "code",
   "execution_count": 108,
   "metadata": {},
   "outputs": [],
   "source": [
    "def generateurmonde(pop):\n",
    "    E={}\n",
    "    for i in range(pop):\n",
    "        E[i]=(generateursex(p),23,0)\n",
    "    return E"
   ]
  },
  {
   "cell_type": "code",
   "execution_count": 109,
   "metadata": {},
   "outputs": [
    {
     "name": "stdout",
     "output_type": "stream",
     "text": [
      "{0: ('F', 23, 0), 1: ('M', 23, 0), 2: ('M', 23, 0), 3: ('F', 23, 0), 4: ('M', 23, 0), 5: ('M', 23, 0), 6: ('M', 23, 0), 7: ('F', 23, 0), 8: ('M', 23, 0), 9: ('F', 23, 0), 10: ('M', 23, 0), 11: ('F', 23, 0), 12: ('M', 23, 0), 13: ('F', 23, 0), 14: ('F', 23, 0), 15: ('M', 23, 0), 16: ('F', 23, 0), 17: ('M', 23, 0), 18: ('M', 23, 0), 19: ('M', 23, 0)}\n"
     ]
    }
   ],
   "source": [
    "print(generateurmonde(pop))"
   ]
  },
  {
   "cell_type": "code",
   "execution_count": null,
   "metadata": {},
   "outputs": [],
   "source": []
  }
 ],
 "metadata": {
  "kernelspec": {
   "display_name": "Python 3",
   "language": "python",
   "name": "python3"
  },
  "language_info": {
   "codemirror_mode": {
    "name": "ipython",
    "version": 3
   },
   "file_extension": ".py",
   "mimetype": "text/x-python",
   "name": "python",
   "nbconvert_exporter": "python",
   "pygments_lexer": "ipython3",
   "version": "3.7.3"
  }
 },
 "nbformat": 4,
 "nbformat_minor": 2
}
